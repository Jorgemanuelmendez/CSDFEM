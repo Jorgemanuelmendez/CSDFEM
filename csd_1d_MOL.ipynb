{
 "cells": [
  {
   "cell_type": "code",
   "execution_count": 1,
   "metadata": {
    "collapsed": false
   },
   "outputs": [
    {
     "name": "stdout",
     "output_type": "stream",
     "text": [
      "Populating the interactive namespace from numpy and matplotlib\n"
     ]
    }
   ],
   "source": [
    "%pylab inline\n",
    "#from JSAnimation import IPython_display\n",
    "from matplotlib import animation\n",
    "from __future__ import print_function\n",
    "import time\n",
    "from channels import *\n",
    "from compartment import *\n",
    "from membrane import *\n",
    "from params import *\n",
    "\n",
    "from csdmodel1d import *\n",
    "\n",
    "import numpy as np\n",
    "from scipy.integrate import ode\n",
    "\n",
    "from ProgressBar import *\n",
    "\n",
    "#import logging\n",
    "#logging.getLogger(\"FFC\").setLevel(logging.ERROR)"
   ]
  },
  {
   "cell_type": "code",
   "execution_count": 2,
   "metadata": {
    "collapsed": false
   },
   "outputs": [
    {
     "name": "stdout",
     "output_type": "stream",
     "text": [
      "Ion: K+, g_leak: 1.38E-02\n",
      "Ion: Cl-, g_leak: 0.00E+00\n",
      "Ion: Na+, g_leak: 4.01E-03\n",
      "Ion: Ca2+, g_leak: 1.96E-05\n",
      "Ion: K+, g_leak: 3.07E-02\n",
      "Adding a leak channel does nothing to balance Cl-\n",
      "Ion: Na+, g_leak: 3.62E-03\n",
      "Ion: Ca2+, g_leak: 1.85E-05\n"
     ]
    }
   ],
   "source": [
    "model = CSDModelInterval(N=32,dx=5e-6) # define the model\n",
    "\n",
    "# Define the compartments, and the membranes\n",
    "ecs = Compartment(\"ecs\")\n",
    "neuron = CellCompartment(\"neuron\",density = 2e5) # 2e5 neurons per meter, 4e10 per sq meter\n",
    "glia = CellCompartment(\"glia\",density = 2e5) #2e5 glia per meter\n",
    "\n",
    "neuron_mem = Membrane(\"neuronal\",inside=neuron,outside=ecs,Cm=Cn,phi_m=-70e-3)\n",
    "glial_mem = Membrane(\"glial\",inside=glia,outside=ecs,Cm=Cg,phi_m=-85e-3)\n",
    "\n",
    "# Add the compartments to the model\n",
    "model.addCompartment(ecs,fraction=0.2) # ECS take 20% of the total volume\n",
    "model.addCompartment(neuron,fraction=0.4) # Neurons take up 40% of the total volume\n",
    "model.addCompartment(glia,fraction=0.4) # Neurons take up 40% of the total volume\n",
    "\n",
    "# Add ion species\n",
    "ecs.addSpecies(K,Ke0,name='K_e')\n",
    "ecs.addSpecies(Cl,Cle0,name='Cl_e')\n",
    "ecs.addSpecies(Na,Nae0,name='Na_e')\n",
    "ecs.addSpecies(Ca,Cae0,name='Ca_e')\n",
    "ecs.addSpecies(Glu,0.0,name = \"g_e\")\n",
    "\n",
    "neuron.addSpecies(K,Ki0,0,'K_n')\n",
    "neuron.addSpecies(Na,Nai0,0,'Na_n')\n",
    "neuron.addSpecies(Cl,Cli0,0,'Cl_n')\n",
    "neuron.addSpecies(Ca,Cai0,0,'Ca_n')\n",
    "neuron.addSpecies(Glu,1e-6,name = \"g_n\")\n",
    "\n",
    "\n",
    "glia.addSpecies(K,Ki0,name='K_g')\n",
    "glia.addSpecies(Na,Nai0,name='Na_g')\n",
    "glia.addSpecies(Cl,Cli0,name='Cl_g')\n",
    "glia.addSpecies(Ca,Cai0,0,'Ca_g')\n",
    "\n",
    "# add channels\n",
    "neuron_mem.addChannel(NaTChannel(),100.) # 100 per neuron?\n",
    "neuron_mem.addChannel(NaPChannel(),2.) # 2 per neuron\n",
    "neuron_mem.addChannel(KDRChannel(),100.) # number of channels per neuron\n",
    "neuron_mem.addChannel(KIRChannel(),100.)\n",
    "#neuron_mem.addChannel(NMDAChannel(),10.)\n",
    "neuron_mem.addChannel(gNMDAChannel(),10.)\n",
    "\n",
    "neuron_mem.addChannel(PMCAPump(),500) # PMCA pump\n",
    "neuron_mem.addChannel(NaCaExchangePump(),500) # sodium-calcium exchanger\n",
    "neuron_mem.addChannel(NaKATPasePump(),500.) # 5000 ATPase per neuron\n",
    "neuron_mem.addChannel(NonSpecificChlorideChannel(-0.07),400)\n",
    "\n",
    "glial_mem.addChannel(KIRChannel(),100) # KIR Channel\n",
    "glial_mem.addChannel(NaKATPasePump(),500.) # 5000 ATPase per neuron\n",
    "glial_mem.addChannel(PMCAPump(),500)\n",
    "glial_mem.addChannel(NonSpecificChlorideChannel(-0.085),400)\n",
    "\n",
    "model.addMembrane(neuron_mem)\n",
    "model.addMembrane(glial_mem)\n",
    "\n",
    "neuron_mem.addLeakChannels()\n",
    "neuron.balanceWith(ecs)\n",
    "glial_mem.addLeakChannels()\n",
    "glia.balanceWith(ecs)\n",
    "\n",
    "model.assembleSystem()\n",
    "\n",
    "system_state = model.getInternalVars()"
   ]
  },
  {
   "cell_type": "markdown",
   "metadata": {},
   "source": [
    "We're going to poke some holes into the membranes in order to instigate CSD"
   ]
  },
  {
   "cell_type": "code",
   "execution_count": 3,
   "metadata": {
    "collapsed": true
   },
   "outputs": [],
   "source": [
    "#Hole method for initiation - very slow!!\n",
    "neuron_hole = HoleChannel([K,Na,Cl],1e-4)\n",
    "density = np.zeros(model.N)\n",
    "density[0:3] = 100\n",
    "neuron_mem.addChannel(neuron_hole,density)\n",
    "\n",
    "glial_hole = HoleChannel([K,Na,Cl],1e-4)\n",
    "glial_mem.addChannel(glial_hole,density)"
   ]
  },
  {
   "cell_type": "code",
   "execution_count": 4,
   "metadata": {
    "collapsed": false
   },
   "outputs": [
    {
     "name": "stdout",
     "output_type": "stream",
     "text": [
      "      time        V_n        V_g        K_e        K_n        K_g       Cl_e\n",
      "    180.01 -70.2017067504 -84.9554005486 3.5082873221 132.970835866 133.492287225 145.510468455\n",
      "    180.01 -70.2017067504 -84.9554005486 3.5082873221 132.970835866 133.492287225 145.510468455\n",
      "\n",
      "Elapsed time 5338.586\n"
     ]
    },
    {
     "name": "stderr",
     "output_type": "stream",
     "text": [
      "channels.py:156: RuntimeWarning: overflow encountered in exp\n",
      "  /(sqrt(outvalues[K]*1e3)*(1.0+exp(1000*(V_m-Ek) ))) + (V_m>=Ek)*1.0*self.gmax* (V_m-Ek)*exp(-1000*(V_m-Ek) ) \\\n",
      "membrane.py:180: RuntimeWarning: overflow encountered in exp\n",
      "  for species in self.species}\n",
      "membrane.py:180: RuntimeWarning: invalid value encountered in divide\n",
      "  for species in self.species}\n",
      "channels.py:157: RuntimeWarning: overflow encountered in exp\n",
      "  /(sqrt(outvalues[K]*1e3)*(1.0+exp(-1000*(V_m-Ek) )))  }\n",
      "channels.py:157: RuntimeWarning: invalid value encountered in multiply\n",
      "  /(sqrt(outvalues[K]*1e3)*(1.0+exp(-1000*(V_m-Ek) )))  }\n",
      "channels.py:156: RuntimeWarning: invalid value encountered in less\n",
      "  /(sqrt(outvalues[K]*1e3)*(1.0+exp(1000*(V_m-Ek) ))) + (V_m>=Ek)*1.0*self.gmax* (V_m-Ek)*exp(-1000*(V_m-Ek) ) \\\n",
      "channels.py:157: RuntimeWarning: invalid value encountered in greater_equal\n",
      "  /(sqrt(outvalues[K]*1e3)*(1.0+exp(-1000*(V_m-Ek) )))  }\n",
      "csdmodel1d.py:90: RuntimeWarning: invalid value encountered in greater\n",
      "  condition = wf > 0\n",
      "membrane.py:180: RuntimeWarning: invalid value encountered in less\n",
      "  for species in self.species}\n"
     ]
    }
   ],
   "source": [
    "t_old = 0\n",
    "model.odesolver.t = 0\n",
    "dt1 = 0 # timescale separation\n",
    "t_old1 = 0\n",
    "system_states = []\n",
    "t = []\n",
    "meanflux = 0.0\n",
    "t.append(0)\n",
    "start_time = time.time()\n",
    "\n",
    "#print( \"%s\\t\\t%s\\t%s\\t%s, %s, %s, %s\" % ('time', 'V_n','V_g', 'K_e', 'K_n','K_g','Cl_e'))\n",
    "print('{:>10} {:>10} {:>10} {:>10} {:>10} {:>10} {:>10}'.format('time', 'V_n','V_g', 'K_e', 'K_n','K_g','Cl_e') )\n",
    "#print(\"%.3fs\\t%.2fmV%.2fmV, %.2fmM, %.2fmM, %.2fmM, %.2fmM\" % (model.odesolver.t, 1e3*neuron_mem.phi()[0], 1e3*glial_mem.phi()[0], 1e3*ecs.value(K)[0], 1e3*neuron.value(K)[0], 1e3*glia.value(K)[0], 1e3*ecs.value(Cl)[0]), end='\\r')\n",
    "print('{:>10} {:>10} {:>10} {:>10} {:>10} {:>10} {:>10}'.format(model.odesolver.t, 1e3*neuron_mem.phi()[0], 1e3*glial_mem.phi()[0], 1e3*ecs.value(K)[0], 1e3*neuron.value(K)[0], 1e3*glia.value(K)[0], 1e3*ecs.value(Cl)[0]), end='\\r')\n",
    "\n",
    "while model.odesolver.successful() and model.odesolver.t < 20.0:\n",
    "    y = model.odesolver.integrate(model.odesolver.t+1e-2)\n",
    "    #print( \"%.3fs\\t%.2fmV,%.2fmV, %.2fmM, %.2fmM, %.2fmM, %.2fmM\" % (model.odesolver.t, 1e3*neuron_mem.phi(y)[0], 1e3*glial_mem.phi(y)[0], 1e3*ecs.value(K,y)[0], 1e3*neuron.value(K,y)[0], 1e3*glia.value(K,y)[0], 1e3*ecs.value(Cl,y)[0]), end='\\r')\n",
    "    print('{:>10} {:>10} {:>10} {:>10} {:>10} {:>10} {:>10}'.format(model.odesolver.t, 1e3*neuron_mem.phi(y)[0], 1e3*glial_mem.phi(y)[0], 1e3*ecs.value(K,y)[0], 1e3*neuron.value(K,y)[0], 1e3*glia.value(K,y)[0], 1e3*ecs.value(Cl,y)[0]), end='\\r')\n",
    "    system_states.append(y)\n",
    "    t.append(model.odesolver.t)\n",
    "    \n",
    "neuron_mem.removeChannel(neuron_hole)\n",
    "glial_mem.removeChannel(glial_hole)\n",
    "    \n",
    "while model.odesolver.successful() and model.odesolver.t < 180.0:\n",
    "    y = model.odesolver.integrate(model.odesolver.t+1e-2)\n",
    "    print('{:>10} {:>10} {:>10} {:>10} {:>10} {:>10} {:>10}'.format(model.odesolver.t, 1e3*neuron_mem.phi(y)[0], 1e3*glial_mem.phi(y)[0], 1e3*ecs.value(K,y)[0], 1e3*neuron.value(K,y)[0], 1e3*glia.value(K,y)[0], 1e3*ecs.value(Cl,y)[0]), end='\\r')\n",
    "    system_states.append(y)\n",
    "    t.append(model.odesolver.t)    \n",
    "    \n",
    "print('{:>10} {:>10} {:>10} {:>10} {:>10} {:>10} {:>10}'.format(model.odesolver.t, 1e3*neuron_mem.phi(y)[0], 1e3*glial_mem.phi(y)[0], 1e3*ecs.value(K,y)[0], 1e3*neuron.value(K,y)[0], 1e3*glia.value(K,y)[0], 1e3*ecs.value(Cl,y)[0]))\n",
    "elapsed_time = time.time() - start_time\n",
    "print('{:>10} {:>10} {:>10} {:>10} {:>10} {:>10} {:>10}'.format(model.odesolver.t, 1e3*neuron_mem.phi(y)[0], 1e3*glial_mem.phi(y)[0], 1e3*ecs.value(K,y)[0], 1e3*neuron.value(K,y)[0], 1e3*glia.value(K,y)[0], 1e3*ecs.value(Cl,y)[0]))\n",
    "print(\"\\nElapsed time %.3f\" % (elapsed_time) )"
   ]
  },
  {
   "cell_type": "code",
   "execution_count": null,
   "metadata": {
    "collapsed": true
   },
   "outputs": [],
   "source": []
  },
  {
   "cell_type": "code",
   "execution_count": null,
   "metadata": {
    "collapsed": true
   },
   "outputs": [],
   "source": []
  }
 ],
 "metadata": {
  "kernelspec": {
   "display_name": "Python 2",
   "language": "python",
   "name": "python2"
  },
  "language_info": {
   "codemirror_mode": {
    "name": "ipython",
    "version": 2
   },
   "file_extension": ".py",
   "mimetype": "text/x-python",
   "name": "python",
   "nbconvert_exporter": "python",
   "pygments_lexer": "ipython2",
   "version": "2.7.9"
  }
 },
 "nbformat": 4,
 "nbformat_minor": 0
}
