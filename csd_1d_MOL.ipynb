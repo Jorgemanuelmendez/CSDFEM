{
 "cells": [
  {
   "cell_type": "code",
   "execution_count": 1,
   "metadata": {
    "collapsed": false
   },
   "outputs": [
    {
     "name": "stdout",
     "output_type": "stream",
     "text": [
      "Populating the interactive namespace from numpy and matplotlib\n"
     ]
    }
   ],
   "source": [
    "%pylab inline\n",
    "#from JSAnimation import IPython_display\n",
    "from matplotlib import animation\n",
    "from __future__ import print_function\n",
    "import time\n",
    "from channels import *\n",
    "from compartment import *\n",
    "from membrane import *\n",
    "from params import *\n",
    "\n",
    "from csdmodel1d import *\n",
    "\n",
    "import numpy as np\n",
    "from scipy.integrate import ode\n",
    "\n",
    "from ProgressBar import *\n",
    "\n",
    "#import logging\n",
    "#logging.getLogger(\"FFC\").setLevel(logging.ERROR)"
   ]
  },
  {
   "cell_type": "code",
   "execution_count": 2,
   "metadata": {
    "collapsed": false
   },
   "outputs": [
    {
     "name": "stdout",
     "output_type": "stream",
     "text": [
      "Ion: Na+, g_leak: 4.01E-02\n",
      "Ion: Cl-, g_leak: 0.00E+00\n",
      "Ion: K+, g_leak: 1.38E-01\n",
      "Ion: Ca2+, g_leak: 1.96E-05\n",
      "Ion: Na+, g_leak: 3.62E-02\n",
      "Adding a leak channel does nothing to balance Cl-\n",
      "Ion: K+, g_leak: 3.07E-01\n",
      "Ion: Ca2+, g_leak: 1.85E-05\n"
     ]
    }
   ],
   "source": [
    "model = CSDModelInterval(N=40,dx=5e-6) # define the model\n",
    "\n",
    "# Define the compartments, and the membranes\n",
    "ecs = Compartment(\"ecs\")\n",
    "neuron = CellCompartment(\"neuron\",density = 2e5) # 2e5 neurons per meter, 4e10 per sq meter\n",
    "glia = CellCompartment(\"glia\",density = 2e5) #2e5 glia per meter\n",
    "\n",
    "neuron_mem = Membrane(\"neuronal\",inside=neuron,outside=ecs,Cm=Cn,phi_m=-70e-3)\n",
    "glial_mem = Membrane(\"glial\",inside=glia,outside=ecs,Cm=Cg,phi_m=-85e-3)\n",
    "\n",
    "# Add the compartments to the model\n",
    "model.addCompartment(ecs,fraction=0.2) # ECS take 20% of the total volume\n",
    "model.addCompartment(neuron,fraction=0.4) # Neurons take up 40% of the total volume\n",
    "model.addCompartment(glia,fraction=0.4) # Neurons take up 40% of the total volume\n",
    "\n",
    "# Add ion species\n",
    "ecs.addSpecies(K,Ke0,name='K_e')\n",
    "ecs.addSpecies(Cl,Cle0,name='Cl_e')\n",
    "ecs.addSpecies(Na,Nae0,name='Na_e')\n",
    "ecs.addSpecies(Ca,Cae0,name='Ca_e')\n",
    "ecs.addSpecies(Glu,0.0,name = \"g_e\")\n",
    "\n",
    "neuron.addSpecies(K,Ki0,0,'K_n')\n",
    "neuron.addSpecies(Na,Nai0,0,'Na_n')\n",
    "neuron.addSpecies(Cl,Cli0,0,'Cl_n')\n",
    "neuron.addSpecies(Ca,Cai0,0,'Ca_n')\n",
    "neuron.addSpecies(Glu,1e-6,name = \"g_n\")\n",
    "\n",
    "\n",
    "glia.addSpecies(K,Ki0,name='K_g')\n",
    "glia.addSpecies(Na,Nai0,name='Na_g')\n",
    "glia.addSpecies(Cl,Cli0,name='Cl_g')\n",
    "glia.addSpecies(Ca,Cai0,0,'Ca_g')\n",
    "\n",
    "# add channels\n",
    "neuron_mem.addChannel(NaTChannel(),100.) # 100 per neuron?\n",
    "neuron_mem.addChannel(KDRChannel(),100.) # number of channels per neuron\n",
    "neuron_mem.addChannel(KIRChannel(),100.)\n",
    "#neuron_mem.addChannel(NMDAChannel(),300.)\n",
    "neuron_mem.addChannel(gNMDAChannel(),300.)\n",
    "\n",
    "neuron_mem.addChannel(PMCAPump(),500) # PMCA pump\n",
    "neuron_mem.addChannel(NaCaExchangePump(),500) # sodium-calcium exchanger\n",
    "neuron_mem.addChannel(NaKATPasePump(),5000.) # 5000 ATPase per neuron\n",
    "neuron_mem.addChannel(NonSpecificChlorideChannel(-0.07),4000)\n",
    "\n",
    "glial_mem.addChannel(KIRChannel(),100) # KIR Channel\n",
    "glial_mem.addChannel(NaKATPasePump(),5000.) # 5000 ATPase per neuron\n",
    "glial_mem.addChannel(PMCAPump(),500)\n",
    "glial_mem.addChannel(NonSpecificChlorideChannel(-0.085),4000)\n",
    "\n",
    "model.addMembrane(neuron_mem)\n",
    "model.addMembrane(glial_mem)\n",
    "\n",
    "neuron_mem.addLeakChannels()\n",
    "neuron.balanceWith(ecs)\n",
    "glial_mem.addLeakChannels()\n",
    "glia.balanceWith(ecs)\n",
    "\n",
    "model.assembleSystem()\n",
    "\n",
    "system_state = model.getInternalVars()"
   ]
  },
  {
   "cell_type": "markdown",
   "metadata": {},
   "source": [
    "We're going to poke some holes into the membranes in order to instigate CSD"
   ]
  },
  {
   "cell_type": "code",
   "execution_count": 3,
   "metadata": {
    "collapsed": true
   },
   "outputs": [],
   "source": [
    "#Hole method for initiation - very slow!!\n",
    "neuron_hole = HoleChannel([K,Na,Cl],1e-4)\n",
    "density = np.zeros(model.N)\n",
    "density[0:3] = 100\n",
    "neuron_mem.addChannel(neuron_hole,density)\n",
    "\n",
    "glial_hole = HoleChannel([K,Na,Cl],1e-4)\n",
    "glial_mem.addChannel(glial_hole,density)"
   ]
  },
  {
   "cell_type": "code",
   "execution_count": 4,
   "metadata": {
    "collapsed": false
   },
   "outputs": [
    {
     "name": "stdout",
     "output_type": "stream",
     "text": [
      "time\t\tV_n\tV_g\tK_e, K_n, K_g, Cl_e\n",
      "0.000s\t-70.00mV-85.00mV, 3.50mM, 133.50mM, 133.50mM, 145.50mM\r"
     ]
    },
    {
     "ename": "AttributeError",
     "evalue": "'gNMDAChannel' object has no attribute 'name'",
     "output_type": "error",
     "traceback": [
      "\u001b[0;31m---------------------------------------------------------------------------\u001b[0m",
      "\u001b[0;31mAttributeError\u001b[0m                            Traceback (most recent call last)",
      "\u001b[0;32m<ipython-input-4-e08a98ceca7b>\u001b[0m in \u001b[0;36m<module>\u001b[0;34m()\u001b[0m\n\u001b[1;32m     13\u001b[0m \u001b[0;34m\u001b[0m\u001b[0m\n\u001b[1;32m     14\u001b[0m \u001b[0;32mwhile\u001b[0m \u001b[0mmodel\u001b[0m\u001b[0;34m.\u001b[0m\u001b[0modesolver\u001b[0m\u001b[0;34m.\u001b[0m\u001b[0msuccessful\u001b[0m\u001b[0;34m(\u001b[0m\u001b[0;34m)\u001b[0m \u001b[0;32mand\u001b[0m \u001b[0mmodel\u001b[0m\u001b[0;34m.\u001b[0m\u001b[0modesolver\u001b[0m\u001b[0;34m.\u001b[0m\u001b[0mt\u001b[0m \u001b[0;34m<\u001b[0m \u001b[0;36m20.0\u001b[0m\u001b[0;34m:\u001b[0m\u001b[0;34m\u001b[0m\u001b[0m\n\u001b[0;32m---> 15\u001b[0;31m     \u001b[0my\u001b[0m \u001b[0;34m=\u001b[0m \u001b[0mmodel\u001b[0m\u001b[0;34m.\u001b[0m\u001b[0modesolver\u001b[0m\u001b[0;34m.\u001b[0m\u001b[0mintegrate\u001b[0m\u001b[0;34m(\u001b[0m\u001b[0mmodel\u001b[0m\u001b[0;34m.\u001b[0m\u001b[0modesolver\u001b[0m\u001b[0;34m.\u001b[0m\u001b[0mt\u001b[0m\u001b[0;34m+\u001b[0m\u001b[0;36m5e-3\u001b[0m\u001b[0;34m)\u001b[0m\u001b[0;34m\u001b[0m\u001b[0m\n\u001b[0m\u001b[1;32m     16\u001b[0m     \u001b[0;32mprint\u001b[0m\u001b[0;34m(\u001b[0m \u001b[0;34m\"%.3fs\\t%.2fmV,%.2fmV, %.2fmM, %.2fmM, %.2fmM, %.2fmM\"\u001b[0m \u001b[0;34m%\u001b[0m \u001b[0;34m(\u001b[0m\u001b[0mmodel\u001b[0m\u001b[0;34m.\u001b[0m\u001b[0modesolver\u001b[0m\u001b[0;34m.\u001b[0m\u001b[0mt\u001b[0m\u001b[0;34m,\u001b[0m \u001b[0;36m1e3\u001b[0m\u001b[0;34m*\u001b[0m\u001b[0mneuron_mem\u001b[0m\u001b[0;34m.\u001b[0m\u001b[0mphi\u001b[0m\u001b[0;34m(\u001b[0m\u001b[0my\u001b[0m\u001b[0;34m)\u001b[0m\u001b[0;34m[\u001b[0m\u001b[0;36m0\u001b[0m\u001b[0;34m]\u001b[0m\u001b[0;34m,\u001b[0m \u001b[0;36m1e3\u001b[0m\u001b[0;34m*\u001b[0m\u001b[0mglial_mem\u001b[0m\u001b[0;34m.\u001b[0m\u001b[0mphi\u001b[0m\u001b[0;34m(\u001b[0m\u001b[0my\u001b[0m\u001b[0;34m)\u001b[0m\u001b[0;34m[\u001b[0m\u001b[0;36m0\u001b[0m\u001b[0;34m]\u001b[0m\u001b[0;34m,\u001b[0m \u001b[0;36m1e3\u001b[0m\u001b[0;34m*\u001b[0m\u001b[0mecs\u001b[0m\u001b[0;34m.\u001b[0m\u001b[0mvalue\u001b[0m\u001b[0;34m(\u001b[0m\u001b[0mK\u001b[0m\u001b[0;34m,\u001b[0m\u001b[0my\u001b[0m\u001b[0;34m)\u001b[0m\u001b[0;34m[\u001b[0m\u001b[0;36m0\u001b[0m\u001b[0;34m]\u001b[0m\u001b[0;34m,\u001b[0m \u001b[0;36m1e3\u001b[0m\u001b[0;34m*\u001b[0m\u001b[0mneuron\u001b[0m\u001b[0;34m.\u001b[0m\u001b[0mvalue\u001b[0m\u001b[0;34m(\u001b[0m\u001b[0mK\u001b[0m\u001b[0;34m,\u001b[0m\u001b[0my\u001b[0m\u001b[0;34m)\u001b[0m\u001b[0;34m[\u001b[0m\u001b[0;36m0\u001b[0m\u001b[0;34m]\u001b[0m\u001b[0;34m,\u001b[0m \u001b[0;36m1e3\u001b[0m\u001b[0;34m*\u001b[0m\u001b[0mglia\u001b[0m\u001b[0;34m.\u001b[0m\u001b[0mvalue\u001b[0m\u001b[0;34m(\u001b[0m\u001b[0mK\u001b[0m\u001b[0;34m,\u001b[0m\u001b[0my\u001b[0m\u001b[0;34m)\u001b[0m\u001b[0;34m[\u001b[0m\u001b[0;36m0\u001b[0m\u001b[0;34m]\u001b[0m\u001b[0;34m,\u001b[0m \u001b[0;36m1e3\u001b[0m\u001b[0;34m*\u001b[0m\u001b[0mecs\u001b[0m\u001b[0;34m.\u001b[0m\u001b[0mvalue\u001b[0m\u001b[0;34m(\u001b[0m\u001b[0mCl\u001b[0m\u001b[0;34m,\u001b[0m\u001b[0my\u001b[0m\u001b[0;34m)\u001b[0m\u001b[0;34m[\u001b[0m\u001b[0;36m0\u001b[0m\u001b[0;34m]\u001b[0m\u001b[0;34m)\u001b[0m\u001b[0;34m,\u001b[0m \u001b[0mend\u001b[0m\u001b[0;34m=\u001b[0m\u001b[0;34m'\\r'\u001b[0m\u001b[0;34m)\u001b[0m\u001b[0;34m\u001b[0m\u001b[0m\n\u001b[1;32m     17\u001b[0m     \u001b[0msystem_states\u001b[0m\u001b[0;34m.\u001b[0m\u001b[0mappend\u001b[0m\u001b[0;34m(\u001b[0m\u001b[0my\u001b[0m\u001b[0;34m)\u001b[0m\u001b[0;34m\u001b[0m\u001b[0m\n",
      "\u001b[0;32m/usr/local/lib/python2.7/site-packages/scipy/integrate/_ode.pyc\u001b[0m in \u001b[0;36mintegrate\u001b[0;34m(self, t, step, relax)\u001b[0m\n\u001b[1;32m    392\u001b[0m             self._y, self.t = mth(self.f, self.jac or (lambda: None),\n\u001b[1;32m    393\u001b[0m                                 \u001b[0mself\u001b[0m\u001b[0;34m.\u001b[0m\u001b[0m_y\u001b[0m\u001b[0;34m,\u001b[0m \u001b[0mself\u001b[0m\u001b[0;34m.\u001b[0m\u001b[0mt\u001b[0m\u001b[0;34m,\u001b[0m \u001b[0mt\u001b[0m\u001b[0;34m,\u001b[0m\u001b[0;34m\u001b[0m\u001b[0m\n\u001b[0;32m--> 394\u001b[0;31m                                 self.f_params, self.jac_params)\n\u001b[0m\u001b[1;32m    395\u001b[0m         \u001b[0;32mexcept\u001b[0m \u001b[0mSystemError\u001b[0m\u001b[0;34m:\u001b[0m\u001b[0;34m\u001b[0m\u001b[0m\n\u001b[1;32m    396\u001b[0m             \u001b[0;31m# f2py issue with tuple returns, see ticket 1187.\u001b[0m\u001b[0;34m\u001b[0m\u001b[0;34m\u001b[0m\u001b[0m\n",
      "\u001b[0;32m/usr/local/lib/python2.7/site-packages/scipy/integrate/_ode.pyc\u001b[0m in \u001b[0;36mrun\u001b[0;34m(self, f, jac, y0, t0, t1, f_params, jac_params)\u001b[0m\n\u001b[1;32m   1191\u001b[0m         \u001b[0margs\u001b[0m \u001b[0;34m=\u001b[0m \u001b[0;34m[\u001b[0m\u001b[0mf\u001b[0m\u001b[0;34m,\u001b[0m \u001b[0my0\u001b[0m\u001b[0;34m,\u001b[0m \u001b[0mt0\u001b[0m\u001b[0;34m,\u001b[0m \u001b[0mt1\u001b[0m\u001b[0;34m]\u001b[0m \u001b[0;34m+\u001b[0m \u001b[0mself\u001b[0m\u001b[0;34m.\u001b[0m\u001b[0mcall_args\u001b[0m\u001b[0;34m[\u001b[0m\u001b[0;34m:\u001b[0m\u001b[0;34m-\u001b[0m\u001b[0;36m1\u001b[0m\u001b[0;34m]\u001b[0m \u001b[0;34m+\u001b[0m\u001b[0;31m \u001b[0m\u001b[0;31m\\\u001b[0m\u001b[0;34m\u001b[0m\u001b[0m\n\u001b[1;32m   1192\u001b[0m                \u001b[0;34m[\u001b[0m\u001b[0mjac\u001b[0m\u001b[0;34m,\u001b[0m \u001b[0mself\u001b[0m\u001b[0;34m.\u001b[0m\u001b[0mcall_args\u001b[0m\u001b[0;34m[\u001b[0m\u001b[0;34m-\u001b[0m\u001b[0;36m1\u001b[0m\u001b[0;34m]\u001b[0m\u001b[0;34m,\u001b[0m \u001b[0mf_params\u001b[0m\u001b[0;34m,\u001b[0m \u001b[0;36m0\u001b[0m\u001b[0;34m,\u001b[0m \u001b[0mjac_params\u001b[0m\u001b[0;34m]\u001b[0m\u001b[0;34m\u001b[0m\u001b[0m\n\u001b[0;32m-> 1193\u001b[0;31m         \u001b[0my1\u001b[0m\u001b[0;34m,\u001b[0m \u001b[0mt\u001b[0m\u001b[0;34m,\u001b[0m \u001b[0mistate\u001b[0m \u001b[0;34m=\u001b[0m \u001b[0mself\u001b[0m\u001b[0;34m.\u001b[0m\u001b[0mrunner\u001b[0m\u001b[0;34m(\u001b[0m\u001b[0;34m*\u001b[0m\u001b[0margs\u001b[0m\u001b[0;34m)\u001b[0m\u001b[0;34m\u001b[0m\u001b[0m\n\u001b[0m\u001b[1;32m   1194\u001b[0m         \u001b[0;32mif\u001b[0m \u001b[0mistate\u001b[0m \u001b[0;34m<\u001b[0m \u001b[0;36m0\u001b[0m\u001b[0;34m:\u001b[0m\u001b[0;34m\u001b[0m\u001b[0m\n\u001b[1;32m   1195\u001b[0m             warnings.warn('lsoda: ' +\n",
      "\u001b[0;32m/Users/josh/Dropbox/workspace/csdfem/src/csdmodel1d.pyc\u001b[0m in \u001b[0;36mode_rhs\u001b[0;34m(self, t, system_state)\u001b[0m\n\u001b[1;32m    100\u001b[0m                     \u001b[0mtemp\u001b[0m\u001b[0;34m[\u001b[0m\u001b[0mindex\u001b[0m\u001b[0;34m:\u001b[0m\u001b[0;34m(\u001b[0m\u001b[0mindex\u001b[0m \u001b[0;34m+\u001b[0m \u001b[0mlength\u001b[0m\u001b[0;34m)\u001b[0m\u001b[0;34m]\u001b[0m \u001b[0;34m=\u001b[0m \u001b[0mkey\u001b[0m\u001b[0;34m.\u001b[0m\u001b[0mget_dot_InternalVars\u001b[0m\u001b[0;34m(\u001b[0m\u001b[0msystem_state\u001b[0m\u001b[0;34m,\u001b[0m \u001b[0mt\u001b[0m\u001b[0;34m)\u001b[0m\u001b[0;34m\u001b[0m\u001b[0m\n\u001b[1;32m    101\u001b[0m                 \u001b[0;32mexcept\u001b[0m\u001b[0;34m:\u001b[0m\u001b[0;34m\u001b[0m\u001b[0m\n\u001b[0;32m--> 102\u001b[0;31m                     \u001b[0;32mprint\u001b[0m \u001b[0mkey\u001b[0m\u001b[0;34m.\u001b[0m\u001b[0mname\u001b[0m\u001b[0;34m\u001b[0m\u001b[0m\n\u001b[0m\u001b[1;32m    103\u001b[0m \u001b[0;34m\u001b[0m\u001b[0m\n\u001b[1;32m    104\u001b[0m \u001b[0;34m\u001b[0m\u001b[0m\n",
      "\u001b[0;31mAttributeError\u001b[0m: 'gNMDAChannel' object has no attribute 'name'"
     ]
    }
   ],
   "source": [
    "t_old = 0\n",
    "model.odesolver.t = 0\n",
    "dt1 = 0 # timescale separation\n",
    "t_old1 = 0\n",
    "system_states = []\n",
    "t = []\n",
    "meanflux = 0.0\n",
    "t.append(0)\n",
    "start_time = time.time()\n",
    "\n",
    "print( \"%s\\t\\t%s\\t%s\\t%s, %s, %s, %s\" % ('time', 'V_n','V_g', 'K_e', 'K_n','K_g','Cl_e'))\n",
    "print( \"%.3fs\\t%.2fmV%.2fmV, %.2fmM, %.2fmM, %.2fmM, %.2fmM\" % (model.odesolver.t, 1e3*neuron_mem.phi()[0], 1e3*glial_mem.phi()[0], 1e3*ecs.value(K)[0], 1e3*neuron.value(K)[0], 1e3*glia.value(K)[0], 1e3*ecs.value(Cl)[0]), end='\\r')\n",
    "\n",
    "while model.odesolver.successful() and model.odesolver.t < 20.0:\n",
    "    y = model.odesolver.integrate(model.odesolver.t+5e-3)\n",
    "    print( \"%.3fs\\t%.2fmV,%.2fmV, %.2fmM, %.2fmM, %.2fmM, %.2fmM\" % (model.odesolver.t, 1e3*neuron_mem.phi(y)[0], 1e3*glial_mem.phi(y)[0], 1e3*ecs.value(K,y)[0], 1e3*neuron.value(K,y)[0], 1e3*glia.value(K,y)[0], 1e3*ecs.value(Cl,y)[0]), end='\\r')\n",
    "    system_states.append(y)\n",
    "    t.append(model.odesolver.t)\n",
    "    \n",
    "neuron_mem.removeChannel(neuron_hole)\n",
    "glial_mem.removeChannel(glial_hole)\n",
    "    \n",
    "while model.odesolver.successful() and model.odesolver.t < 180.0:\n",
    "    y = model.odesolver.integrate(model.odesolver.t+5e-3)\n",
    "    print( \"%.3fs\\t%.2fmV,%.2fmV, %.2fmM, %.2fmM, %.2fmM, %.2fmM\" % (model.odesolver.t, 1e3*neuron_mem.phi(y)[0], 1e3*glial_mem.phi(y)[0], 1e3*ecs.value(K,y)[0], 1e3*neuron.value(K,y)[0], 1e3*glia.value(K,y)[0], 1e3*ecs.value(Cl,y)[0]), end='\\r')\n",
    "    system_states.append(y)\n",
    "    t.append(model.odesolver.t)    \n",
    "    \n",
    "print( \"%.3fs\\t%.2fmV%.2fmV, %.2fmM, %.2fmM, %.2fmM, %.2fmM\" % (model.odesolver.t, 1e3*neuron_mem.phi()[0], 1e3*glial_mem.phi()[0], 1e3*ecs.value(K)[0], 1e3*neuron.value(K)[0], 1e3*glia.value(K)[0], 1e3*ecs.value(Cl)[0]), end='\\r')\n",
    "elapsed_time = time.time() - start_time\n",
    "print( \"%.3fs\\t%.2fmV%.2fmV, %.2fmM, %.2fmM, %.2fmM, %.2fmM\" % (model.odesolver.t, 1e3*neuron_mem.phi()[0], 1e3*glial_mem.phi()[0], 1e3*ecs.value(K)[0], 1e3*neuron.value(K)[0], 1e3*glia.value(K)[0], 1e3*ecs.value(Cl)[0]))\n",
    "print(\"Elapsed time %.3f\" % (elapsed_time) )"
   ]
  },
  {
   "cell_type": "code",
   "execution_count": 5,
   "metadata": {
    "collapsed": false
   },
   "outputs": [
    {
     "ename": "AttributeError",
     "evalue": "'Compartment' object has no attribute 'get'",
     "output_type": "error",
     "traceback": [
      "\u001b[0;31m---------------------------------------------------------------------------\u001b[0m",
      "\u001b[0;31mAttributeError\u001b[0m                            Traceback (most recent call last)",
      "\u001b[0;32m<ipython-input-5-2e1f2f720507>\u001b[0m in \u001b[0;36m<module>\u001b[0;34m()\u001b[0m\n\u001b[0;32m----> 1\u001b[0;31m \u001b[0mmodel\u001b[0m\u001b[0;34m.\u001b[0m\u001b[0minternalVars\u001b[0m\u001b[0;34m[\u001b[0m\u001b[0;36m4\u001b[0m\u001b[0;34m]\u001b[0m\u001b[0;34m[\u001b[0m\u001b[0;36m0\u001b[0m\u001b[0;34m]\u001b[0m\u001b[0;34m.\u001b[0m\u001b[0mget_dot_InternalVars\u001b[0m\u001b[0;34m(\u001b[0m\u001b[0msystem_state\u001b[0m\u001b[0;34m,\u001b[0m\u001b[0;36m0\u001b[0m\u001b[0;34m)\u001b[0m\u001b[0;34m\u001b[0m\u001b[0m\n\u001b[0m",
      "\u001b[0;32m/Users/josh/Dropbox/workspace/csdfem/src/channels.py\u001b[0m in \u001b[0;36mget_dot_InternalVars\u001b[0;34m(self, system_state, t)\u001b[0m\n\u001b[1;32m    211\u001b[0m         \u001b[0mold\u001b[0m \u001b[0;34m=\u001b[0m \u001b[0msuper\u001b[0m\u001b[0;34m(\u001b[0m\u001b[0mNMDAChannel\u001b[0m\u001b[0;34m,\u001b[0m \u001b[0mself\u001b[0m\u001b[0;34m)\u001b[0m\u001b[0;34m.\u001b[0m\u001b[0mget_dot_InternalVars\u001b[0m\u001b[0;34m(\u001b[0m\u001b[0msystem_state\u001b[0m\u001b[0;34m,\u001b[0m\u001b[0mt\u001b[0m\u001b[0;34m)\u001b[0m\u001b[0;34m\u001b[0m\u001b[0m\n\u001b[1;32m    212\u001b[0m         \u001b[0mPopen\u001b[0m \u001b[0;34m=\u001b[0m \u001b[0mself\u001b[0m\u001b[0;34m.\u001b[0m\u001b[0mget_Popen\u001b[0m\u001b[0;34m(\u001b[0m\u001b[0msystem_state\u001b[0m\u001b[0;34m)\u001b[0m\u001b[0;34m\u001b[0m\u001b[0m\n\u001b[0;32m--> 213\u001b[0;31m         \u001b[0mg\u001b[0m \u001b[0;34m=\u001b[0m \u001b[0mself\u001b[0m\u001b[0;34m.\u001b[0m\u001b[0mmembrane\u001b[0m\u001b[0;34m.\u001b[0m\u001b[0moutside\u001b[0m\u001b[0;34m.\u001b[0m\u001b[0mget\u001b[0m\u001b[0;34m(\u001b[0m\u001b[0mGlu\u001b[0m\u001b[0;34m,\u001b[0m\u001b[0msystem_state\u001b[0m\u001b[0;34m)\u001b[0m\u001b[0;34m\u001b[0m\u001b[0m\n\u001b[0m\u001b[1;32m    214\u001b[0m         \u001b[0mdotPopen\u001b[0m \u001b[0;34m=\u001b[0m \u001b[0mr1\u001b[0m\u001b[0;34m*\u001b[0m\u001b[0mg\u001b[0m\u001b[0;34m*\u001b[0m\u001b[0;34m(\u001b[0m\u001b[0;36m1.0\u001b[0m\u001b[0;34m-\u001b[0m\u001b[0mPopen\u001b[0m\u001b[0;34m)\u001b[0m \u001b[0;34m-\u001b[0m \u001b[0mr2\u001b[0m\u001b[0;34m*\u001b[0m\u001b[0mPopen\u001b[0m\u001b[0;34m\u001b[0m\u001b[0m\n\u001b[1;32m    215\u001b[0m         \u001b[0;32mreturn\u001b[0m \u001b[0mnp\u001b[0m\u001b[0;34m.\u001b[0m\u001b[0mconcatenate\u001b[0m\u001b[0;34m(\u001b[0m\u001b[0;34m[\u001b[0m\u001b[0mold\u001b[0m\u001b[0;34m,\u001b[0m\u001b[0mdotPopen\u001b[0m\u001b[0;34m]\u001b[0m\u001b[0;34m)\u001b[0m\u001b[0;34m\u001b[0m\u001b[0m\n",
      "\u001b[0;31mAttributeError\u001b[0m: 'Compartment' object has no attribute 'get'"
     ]
    }
   ],
   "source": [
    "model.internalVars[4][0].get_dot_InternalVars(system_state,0)"
   ]
  },
  {
   "cell_type": "code",
   "execution_count": 4,
   "metadata": {
    "collapsed": false
   },
   "outputs": [
    {
     "data": {
      "text/plain": [
       "[(<membrane.Membrane at 0x106936350>, 40, 0),\n",
       " (<membrane.Membrane at 0x1069361d0>, 40, 40),\n",
       " (<channels.NaTChannel at 0x1069363d0>, 80, 80),\n",
       " (<channels.KDRChannel at 0x106936410>, 40, 160),\n",
       " (<channels.gNMDAChannel at 0x106936490>, 120, 200),\n",
       " (<compartment.Compartment at 0x106936250>, 200, 320),\n",
       " (<compartment.CellCompartment at 0x106936290>, 280, 520),\n",
       " (<compartment.CellCompartment at 0x1069362d0>, 240, 800)]"
      ]
     },
     "execution_count": 4,
     "metadata": {},
     "output_type": "execute_result"
    }
   ],
   "source": [
    "model.internalVars"
   ]
  },
  {
   "cell_type": "code",
   "execution_count": 5,
   "metadata": {
    "collapsed": false
   },
   "outputs": [
    {
     "data": {
      "text/plain": [
       "array([-0.07, -0.07, -0.07, ...,  0.4 ,  0.4 ,  0.4 ])"
      ]
     },
     "execution_count": 5,
     "metadata": {},
     "output_type": "execute_result"
    }
   ],
   "source": [
    "model.getInternalVars()"
   ]
  },
  {
   "cell_type": "code",
   "execution_count": 6,
   "metadata": {
    "collapsed": false
   },
   "outputs": [
    {
     "data": {
      "text/plain": [
       "[(<membrane.Membrane at 0x10c7fb410>, 40, 0),\n",
       " (<membrane.Membrane at 0x10c7fb290>, 40, 40),\n",
       " (<channels.NaTChannel at 0x10c7fb490>, 80, 80),\n",
       " (<channels.KDRChannel at 0x10c7fb4d0>, 40, 160),\n",
       " (<channels.gNMDAChannel at 0x10c7fb550>, 120, 200),\n",
       " (<compartment.Compartment at 0x10c7fb310>, 200, 320),\n",
       " (<compartment.CellCompartment at 0x10c7fb350>, 280, 520),\n",
       " (<compartment.CellCompartment at 0x10c7fb390>, 240, 800)]"
      ]
     },
     "execution_count": 6,
     "metadata": {},
     "output_type": "execute_result"
    }
   ],
   "source": [
    "model.internalVars"
   ]
  },
  {
   "cell_type": "code",
   "execution_count": 5,
   "metadata": {
    "collapsed": false
   },
   "outputs": [],
   "source": [
    "y=model.internalVars[4][0].getInternalVars()"
   ]
  },
  {
   "cell_type": "code",
   "execution_count": 12,
   "metadata": {
    "collapsed": true
   },
   "outputs": [],
   "source": [
    "model.internalVars[4][0].setInternalVars(system_state)"
   ]
  },
  {
   "cell_type": "code",
   "execution_count": 13,
   "metadata": {
    "collapsed": false
   },
   "outputs": [
    {
     "data": {
      "text/plain": [
       "array([  8.73390937e-04,   8.73390937e-04,   8.73390937e-04,\n",
       "         8.73390937e-04,   8.73390937e-04,   8.73390937e-04,\n",
       "         8.73390937e-04,   8.73390937e-04,   8.73390937e-04,\n",
       "         8.73390937e-04,   8.73390937e-04,   8.73390937e-04,\n",
       "         8.73390937e-04,   8.73390937e-04,   8.73390937e-04,\n",
       "         8.73390937e-04,   8.73390937e-04,   8.73390937e-04,\n",
       "         8.73390937e-04,   8.73390937e-04,   8.73390937e-04,\n",
       "         8.73390937e-04,   8.73390937e-04,   8.73390937e-04,\n",
       "         8.73390937e-04,   8.73390937e-04,   8.73390937e-04,\n",
       "         8.73390937e-04,   8.73390937e-04,   8.73390937e-04,\n",
       "         8.73390937e-04,   8.73390937e-04,   8.73390937e-04,\n",
       "         8.73390937e-04,   8.73390937e-04,   8.73390937e-04,\n",
       "         8.73390937e-04,   8.73390937e-04,   8.73390937e-04,\n",
       "         8.73390937e-04,   9.89823694e-01,   9.89823694e-01,\n",
       "         9.89823694e-01,   9.89823694e-01,   9.89823694e-01,\n",
       "         9.89823694e-01,   9.89823694e-01,   9.89823694e-01,\n",
       "         9.89823694e-01,   9.89823694e-01,   9.89823694e-01,\n",
       "         9.89823694e-01,   9.89823694e-01,   9.89823694e-01,\n",
       "         9.89823694e-01,   9.89823694e-01,   9.89823694e-01,\n",
       "         9.89823694e-01,   9.89823694e-01,   9.89823694e-01,\n",
       "         9.89823694e-01,   9.89823694e-01,   9.89823694e-01,\n",
       "         9.89823694e-01,   9.89823694e-01,   9.89823694e-01,\n",
       "         9.89823694e-01,   9.89823694e-01,   9.89823694e-01,\n",
       "         9.89823694e-01,   9.89823694e-01,   9.89823694e-01,\n",
       "         9.89823694e-01,   9.89823694e-01,   9.89823694e-01,\n",
       "         9.89823694e-01,   9.89823694e-01,   9.89823694e-01,\n",
       "         9.89823694e-01,   9.89823694e-01,   0.00000000e+00,\n",
       "         0.00000000e+00,   0.00000000e+00,   0.00000000e+00,\n",
       "         0.00000000e+00,   0.00000000e+00,   0.00000000e+00,\n",
       "         0.00000000e+00,   0.00000000e+00,   0.00000000e+00,\n",
       "         0.00000000e+00,   0.00000000e+00,   0.00000000e+00,\n",
       "         0.00000000e+00,   0.00000000e+00,   0.00000000e+00,\n",
       "         0.00000000e+00,   0.00000000e+00,   0.00000000e+00,\n",
       "         0.00000000e+00,   0.00000000e+00,   0.00000000e+00,\n",
       "         0.00000000e+00,   0.00000000e+00,   0.00000000e+00,\n",
       "         0.00000000e+00,   0.00000000e+00,   0.00000000e+00,\n",
       "         0.00000000e+00,   0.00000000e+00,   0.00000000e+00,\n",
       "         0.00000000e+00,   0.00000000e+00,   0.00000000e+00,\n",
       "         0.00000000e+00,   0.00000000e+00,   0.00000000e+00,\n",
       "         0.00000000e+00,   0.00000000e+00,   0.00000000e+00])"
      ]
     },
     "execution_count": 13,
     "metadata": {},
     "output_type": "execute_result"
    }
   ],
   "source": [
    "model.internalVars[4][0].getInternalVars()"
   ]
  },
  {
   "cell_type": "code",
   "execution_count": 14,
   "metadata": {
    "collapsed": false
   },
   "outputs": [
    {
     "data": {
      "text/plain": [
       "array([  8.73390937e-04,   8.73390937e-04,   8.73390937e-04,\n",
       "         8.73390937e-04,   8.73390937e-04,   8.73390937e-04,\n",
       "         8.73390937e-04,   8.73390937e-04,   8.73390937e-04,\n",
       "         8.73390937e-04,   8.73390937e-04,   8.73390937e-04,\n",
       "         8.73390937e-04,   8.73390937e-04,   8.73390937e-04,\n",
       "         8.73390937e-04,   8.73390937e-04,   8.73390937e-04,\n",
       "         8.73390937e-04,   8.73390937e-04,   8.73390937e-04,\n",
       "         8.73390937e-04,   8.73390937e-04,   8.73390937e-04,\n",
       "         8.73390937e-04,   8.73390937e-04,   8.73390937e-04,\n",
       "         8.73390937e-04,   8.73390937e-04,   8.73390937e-04,\n",
       "         8.73390937e-04,   8.73390937e-04,   8.73390937e-04,\n",
       "         8.73390937e-04,   8.73390937e-04,   8.73390937e-04,\n",
       "         8.73390937e-04,   8.73390937e-04,   8.73390937e-04,\n",
       "         8.73390937e-04,   9.89823694e-01,   9.89823694e-01,\n",
       "         9.89823694e-01,   9.89823694e-01,   9.89823694e-01,\n",
       "         9.89823694e-01,   9.89823694e-01,   9.89823694e-01,\n",
       "         9.89823694e-01,   9.89823694e-01,   9.89823694e-01,\n",
       "         9.89823694e-01,   9.89823694e-01,   9.89823694e-01,\n",
       "         9.89823694e-01,   9.89823694e-01,   9.89823694e-01,\n",
       "         9.89823694e-01,   9.89823694e-01,   9.89823694e-01,\n",
       "         9.89823694e-01,   9.89823694e-01,   9.89823694e-01,\n",
       "         9.89823694e-01,   9.89823694e-01,   9.89823694e-01,\n",
       "         9.89823694e-01,   9.89823694e-01,   9.89823694e-01,\n",
       "         9.89823694e-01,   9.89823694e-01,   9.89823694e-01,\n",
       "         9.89823694e-01,   9.89823694e-01,   9.89823694e-01,\n",
       "         9.89823694e-01,   9.89823694e-01,   9.89823694e-01,\n",
       "         9.89823694e-01,   9.89823694e-01,   0.00000000e+00,\n",
       "         0.00000000e+00,   0.00000000e+00,   0.00000000e+00,\n",
       "         0.00000000e+00,   0.00000000e+00,   0.00000000e+00,\n",
       "         0.00000000e+00,   0.00000000e+00,   0.00000000e+00,\n",
       "         0.00000000e+00,   0.00000000e+00,   0.00000000e+00,\n",
       "         0.00000000e+00,   0.00000000e+00,   0.00000000e+00,\n",
       "         0.00000000e+00,   0.00000000e+00,   0.00000000e+00,\n",
       "         0.00000000e+00,   0.00000000e+00,   0.00000000e+00,\n",
       "         0.00000000e+00,   0.00000000e+00,   0.00000000e+00,\n",
       "         0.00000000e+00,   0.00000000e+00,   0.00000000e+00,\n",
       "         0.00000000e+00,   0.00000000e+00,   0.00000000e+00,\n",
       "         0.00000000e+00,   0.00000000e+00,   0.00000000e+00,\n",
       "         0.00000000e+00,   0.00000000e+00,   0.00000000e+00,\n",
       "         0.00000000e+00,   0.00000000e+00,   0.00000000e+00])"
      ]
     },
     "execution_count": 14,
     "metadata": {},
     "output_type": "execute_result"
    }
   ],
   "source": [
    "y"
   ]
  },
  {
   "cell_type": "code",
   "execution_count": 15,
   "metadata": {
    "collapsed": false
   },
   "outputs": [
    {
     "data": {
      "text/plain": [
       "array([ 0.,  0.,  0.,  0.,  0.,  0.,  0.,  0.,  0.,  0.,  0.,  0.,  0.,\n",
       "        0.,  0.,  0.,  0.,  0.,  0.,  0.,  0.,  0.,  0.,  0.,  0.,  0.,\n",
       "        0.,  0.,  0.,  0.,  0.,  0.,  0.,  0.,  0.,  0.,  0.,  0.,  0.,  0.])"
      ]
     },
     "execution_count": 15,
     "metadata": {},
     "output_type": "execute_result"
    }
   ],
   "source": [
    "system_state[200+2*40:200+3*40]"
   ]
  },
  {
   "cell_type": "code",
   "execution_count": 16,
   "metadata": {
    "collapsed": false
   },
   "outputs": [
    {
     "data": {
      "text/plain": [
       "array([ 0.,  0.,  0.,  0.,  0.,  0.,  0.,  0.,  0.,  0.,  0.,  0.,  0.,\n",
       "        0.,  0.,  0.,  0.,  0.,  0.,  0.,  0.,  0.,  0.,  0.,  0.,  0.,\n",
       "        0.,  0.,  0.,  0.,  0.,  0.,  0.,  0.,  0.,  0.,  0.,  0.,  0.,  0.])"
      ]
     },
     "execution_count": 16,
     "metadata": {},
     "output_type": "execute_result"
    }
   ],
   "source": [
    "model.internalVars[4][0].get_Popen(system_state)"
   ]
  },
  {
   "cell_type": "code",
   "execution_count": 17,
   "metadata": {
    "collapsed": false
   },
   "outputs": [
    {
     "data": {
      "text/plain": [
       "array([ 0.,  0.,  0.,  0.,  0.,  0.,  0.,  0.,  0.,  0.,  0.,  0.,  0.,\n",
       "        0.,  0.,  0.,  0.,  0.,  0.,  0.,  0.,  0.,  0.,  0.,  0.,  0.,\n",
       "        0.,  0.,  0.,  0.,  0.,  0.,  0.,  0.,  0.,  0.,  0.,  0.,  0.,  0.])"
      ]
     },
     "execution_count": 17,
     "metadata": {},
     "output_type": "execute_result"
    }
   ],
   "source": [
    "model.internalVars[4][0].get_Popen()"
   ]
  },
  {
   "cell_type": "code",
   "execution_count": null,
   "metadata": {
    "collapsed": true
   },
   "outputs": [],
   "source": []
  }
 ],
 "metadata": {
  "kernelspec": {
   "display_name": "Python 2",
   "language": "python",
   "name": "python2"
  },
  "language_info": {
   "codemirror_mode": {
    "name": "ipython",
    "version": 2
   },
   "file_extension": ".py",
   "mimetype": "text/x-python",
   "name": "python",
   "nbconvert_exporter": "python",
   "pygments_lexer": "ipython2",
   "version": "2.7.6"
  }
 },
 "nbformat": 4,
 "nbformat_minor": 0
}
